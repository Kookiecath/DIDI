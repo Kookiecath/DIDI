{
 "cells": [
  {
   "cell_type": "code",
   "execution_count": 2,
   "id": "ad0be41e",
   "metadata": {},
   "outputs": [],
   "source": [
    "import yfinance as yf\n",
    "import plotly\n",
    "import quandl\n",
    "import numpy as np \n",
    "import pandas as pd\n",
    "import matplotlib.pyplot as plt\n",
    "from datetime import date, timedelta\n",
    "%matplotlib inline\n",
    "from IPython.display import Image\n",
    "from IPython.core.display import HTML\n",
    "from pandas_datareader import data as pdr\n",
    "import datetime"
   ]
  },
  {
   "cell_type": "markdown",
   "id": "c473ce43",
   "metadata": {},
   "source": [
    "# Stock performance analysis:"
   ]
  },
  {
   "cell_type": "markdown",
   "id": "dff2d13a",
   "metadata": {},
   "source": [
    "## Company Info: "
   ]
  },
  {
   "cell_type": "code",
   "execution_count": 2,
   "id": "6a298d6e",
   "metadata": {},
   "outputs": [
    {
     "data": {
      "text/plain": [
       "{'zip': '100000',\n",
       " 'sector': 'Technology',\n",
       " 'fullTimeEmployees': 15914,\n",
       " 'longBusinessSummary': \"DiDi Global Inc., a mobility technology platform, provides ride hailing and other services in the People's Republic of China, Brazil, Mexico, and internationally. It offers ride hailing, taxi hailing, chauffeur, hitch, and other forms of shared mobility services, as well as enterprise business ride solutions; auto solutions comprising leasing, refueling, and maintenance and repair services; electric vehicle leasing services; bike and e-bike sharing, intra-city freight, food delivery, and financial services. The company was formerly known as Xiaoju Kuaizhi Inc. and changed its name to DiDi Global Inc. in June 2021. DiDi Global Inc. was founded in 2012 and is headquartered in Beijing, China.\",\n",
       " 'city': 'Beijing',\n",
       " 'phone': '86 10 8304 3181',\n",
       " 'country': 'China',\n",
       " 'companyOfficers': [],\n",
       " 'website': 'http://www.didiglobal.com',\n",
       " 'maxAge': 1,\n",
       " 'address1': 'Building B1 & B2',\n",
       " 'industry': 'Software—Application',\n",
       " 'address2': 'No. 1 Block B, Shangdong Digital Valley No. 8 Dongbeiwang West Road Zhongguancun Software Park, Haidian District',\n",
       " 'previousClose': 11.21,\n",
       " 'regularMarketOpen': 11.79,\n",
       " 'twoHundredDayAverage': 13.387143,\n",
       " 'trailingAnnualDividendYield': None,\n",
       " 'payoutRatio': 0,\n",
       " 'volume24Hr': None,\n",
       " 'regularMarketDayHigh': 12.25,\n",
       " 'navPrice': None,\n",
       " 'averageDailyVolume10Day': 133202416,\n",
       " 'totalAssets': None,\n",
       " 'regularMarketPreviousClose': 11.21,\n",
       " 'fiftyDayAverage': 13.387143,\n",
       " 'trailingAnnualDividendRate': None,\n",
       " 'open': 11.79,\n",
       " 'toCurrency': None,\n",
       " 'averageVolume10days': 133202416,\n",
       " 'expireDate': None,\n",
       " 'yield': None,\n",
       " 'algorithm': None,\n",
       " 'dividendRate': None,\n",
       " 'exDividendDate': None,\n",
       " 'beta': None,\n",
       " 'circulatingSupply': None,\n",
       " 'startDate': None,\n",
       " 'regularMarketDayLow': 11.06,\n",
       " 'priceHint': 2,\n",
       " 'currency': 'USD',\n",
       " 'regularMarketVolume': 108405889,\n",
       " 'lastMarket': None,\n",
       " 'maxSupply': None,\n",
       " 'openInterest': None,\n",
       " 'marketCap': 58023579648,\n",
       " 'volumeAllCurrencies': None,\n",
       " 'strikePrice': None,\n",
       " 'averageVolume': 155338571,\n",
       " 'priceToSalesTrailing12Months': 0.35504246,\n",
       " 'dayLow': 11.06,\n",
       " 'ask': 11.89,\n",
       " 'ytdReturn': None,\n",
       " 'askSize': 1000,\n",
       " 'volume': 108405889,\n",
       " 'fiftyTwoWeekHigh': 18.01,\n",
       " 'forwardPE': None,\n",
       " 'fromCurrency': None,\n",
       " 'fiveYearAvgDividendYield': None,\n",
       " 'fiftyTwoWeekLow': 11,\n",
       " 'bid': 11.88,\n",
       " 'tradeable': False,\n",
       " 'dividendYield': None,\n",
       " 'bidSize': 3200,\n",
       " 'dayHigh': 12.25,\n",
       " 'exchange': 'NYQ',\n",
       " 'shortName': 'DiDi Global Inc.',\n",
       " 'longName': 'DiDi Global Inc.',\n",
       " 'exchangeTimezoneName': 'America/New_York',\n",
       " 'exchangeTimezoneShortName': 'EDT',\n",
       " 'isEsgPopulated': False,\n",
       " 'gmtOffSetMilliseconds': '-14400000',\n",
       " 'quoteType': 'EQUITY',\n",
       " 'symbol': 'DIDI',\n",
       " 'messageBoardId': 'finmb_1672242889',\n",
       " 'market': 'us_market',\n",
       " 'annualHoldingsTurnover': None,\n",
       " 'enterpriseToRevenue': 1.05,\n",
       " 'beta3Year': None,\n",
       " 'profitMargins': -0.00653,\n",
       " 'enterpriseToEbitda': -15.038,\n",
       " '52WeekChange': -0.14922208,\n",
       " 'morningStarRiskRating': None,\n",
       " 'forwardEps': None,\n",
       " 'revenueQuarterlyGrowth': None,\n",
       " 'sharesOutstanding': 4823240192,\n",
       " 'fundInceptionDate': None,\n",
       " 'annualReportExpenseRatio': None,\n",
       " 'bookValue': None,\n",
       " 'sharesShort': None,\n",
       " 'sharesPercentSharesOut': None,\n",
       " 'fundFamily': None,\n",
       " 'lastFiscalYearEnd': 1609372800,\n",
       " 'heldPercentInstitutions': None,\n",
       " 'netIncomeToCommon': -6503054848,\n",
       " 'trailingEps': None,\n",
       " 'lastDividendValue': None,\n",
       " 'SandP52WeekChange': 0.38486385,\n",
       " 'priceToBook': None,\n",
       " 'heldPercentInsiders': None,\n",
       " 'nextFiscalYearEnd': 1672444800,\n",
       " 'mostRecentQuarter': 1617148800,\n",
       " 'shortRatio': None,\n",
       " 'sharesShortPreviousMonthDate': None,\n",
       " 'floatShares': None,\n",
       " 'enterpriseValue': 171643846656,\n",
       " 'threeYearAverageReturn': None,\n",
       " 'lastSplitDate': None,\n",
       " 'lastSplitFactor': None,\n",
       " 'legalType': None,\n",
       " 'lastDividendDate': None,\n",
       " 'morningStarOverallRating': None,\n",
       " 'earningsQuarterlyGrowth': None,\n",
       " 'dateShortInterest': None,\n",
       " 'pegRatio': None,\n",
       " 'lastCapGain': None,\n",
       " 'shortPercentOfFloat': None,\n",
       " 'sharesShortPriorMonth': None,\n",
       " 'impliedSharesOutstanding': None,\n",
       " 'category': None,\n",
       " 'fiveYearAverageReturn': None,\n",
       " 'regularMarketPrice': 12.03,\n",
       " 'logo_url': 'https://logo.clearbit.com/didiglobal.com'}"
      ]
     },
     "execution_count": 2,
     "metadata": {},
     "output_type": "execute_result"
    }
   ],
   "source": [
    "didi = yf.Ticker('DIDI')\n",
    "didi.info"
   ]
  },
  {
   "cell_type": "markdown",
   "id": "8ff21e00",
   "metadata": {},
   "source": [
    "## Company Valuation at IPO:"
   ]
  },
  {
   "cell_type": "markdown",
   "id": "0bf424be",
   "metadata": {},
   "source": [
    "Didi’s stock began trading at $\\$16.65$ per share, up about 19\\% from the company’s offering price of $\\$14$ per share, bringing its market cap to nearly $\\$80$ billion. It closed at $\\$14.14$ apiece, with a market cap of about $\\$67.8$ billion. The company was most recently valued at $\\$62$ billion following an August fundraising round, according to PitchBook data. The valuation as of Wednesday’s first trade is more muted than the $\\$100$ billion that some had predicted. Still, it ranks among the largest U.S. IPOs over the past decade."
   ]
  },
  {
   "cell_type": "markdown",
   "id": "024213d4",
   "metadata": {},
   "source": [
    "| Ticker| Listed on: |IPO Share Price| Amount of Shares Sold| Raised Capital|  Growth  at IPO | Market Cap|\n",
    "|:-----:|:-----:|:----------------:|:----------------:|:---------------:|:----------:|:---------------:|\n",
    "| DIDI  | New York Stock Exchange| $\\$14$ per share |   316.8 Million | $\\$4.4$ Billion | 19%      | $\\$67.8$ Billion"
   ]
  },
  {
   "cell_type": "markdown",
   "id": "3da63227",
   "metadata": {},
   "source": [
    "## Current Valuation on July 10, 2021:"
   ]
  },
  {
   "cell_type": "markdown",
   "id": "a85106bc",
   "metadata": {},
   "source": [
    "| Current Share Price | Shares Outstanding|  2021 Quarter1 Revenue  | 2021 Quarter1 Net income  | Market Cap|\n",
    "|:-------------------:|:-----------------:|:------------------------:|:------------------:|:--------------:|\n",
    "|$\\$12.03$ per share | 4.82 Billion  | $\\$6.51$ Billion | $\\$0.85$ Billion|$\\$57.68$ Billion|"
   ]
  },
  {
   "cell_type": "markdown",
   "id": "2c406c36",
   "metadata": {},
   "source": [
    "## Statistics from June 30, 2021 to July 9, 2021:"
   ]
  },
  {
   "cell_type": "markdown",
   "id": "4fb4872e",
   "metadata": {},
   "source": [
    "| Highest Price | Lowest Price |   Average Price  |\n",
    "|:-------------:|:------------:|:----------------:|\n",
    "|$\\$16.4$ per share | $\\$11.21$ per share | $\\$13.39$ per share|"
   ]
  },
  {
   "cell_type": "markdown",
   "id": "2232467d",
   "metadata": {},
   "source": [
    "## Historical Stock Price:"
   ]
  },
  {
   "cell_type": "code",
   "execution_count": 3,
   "id": "8dd709f5",
   "metadata": {},
   "outputs": [
    {
     "data": {
      "text/html": [
       "<div>\n",
       "<style scoped>\n",
       "    .dataframe tbody tr th:only-of-type {\n",
       "        vertical-align: middle;\n",
       "    }\n",
       "\n",
       "    .dataframe tbody tr th {\n",
       "        vertical-align: top;\n",
       "    }\n",
       "\n",
       "    .dataframe thead th {\n",
       "        text-align: right;\n",
       "    }\n",
       "</style>\n",
       "<table border=\"1\" class=\"dataframe\">\n",
       "  <thead>\n",
       "    <tr style=\"text-align: right;\">\n",
       "      <th></th>\n",
       "      <th>Open</th>\n",
       "      <th>High</th>\n",
       "      <th>Low</th>\n",
       "      <th>Close</th>\n",
       "      <th>Adj Close</th>\n",
       "      <th>Volume</th>\n",
       "    </tr>\n",
       "    <tr>\n",
       "      <th>Date</th>\n",
       "      <th></th>\n",
       "      <th></th>\n",
       "      <th></th>\n",
       "      <th></th>\n",
       "      <th></th>\n",
       "      <th></th>\n",
       "    </tr>\n",
       "  </thead>\n",
       "  <tbody>\n",
       "    <tr>\n",
       "      <th>2021-06-30</th>\n",
       "      <td>16.65</td>\n",
       "      <td>18.01</td>\n",
       "      <td>14.10</td>\n",
       "      <td>14.14</td>\n",
       "      <td>14.14</td>\n",
       "      <td>288155500</td>\n",
       "    </tr>\n",
       "    <tr>\n",
       "      <th>2021-07-01</th>\n",
       "      <td>15.60</td>\n",
       "      <td>16.90</td>\n",
       "      <td>15.00</td>\n",
       "      <td>16.40</td>\n",
       "      <td>16.40</td>\n",
       "      <td>150901900</td>\n",
       "    </tr>\n",
       "    <tr>\n",
       "      <th>2021-07-02</th>\n",
       "      <td>14.96</td>\n",
       "      <td>15.83</td>\n",
       "      <td>14.60</td>\n",
       "      <td>15.53</td>\n",
       "      <td>15.53</td>\n",
       "      <td>101071800</td>\n",
       "    </tr>\n",
       "    <tr>\n",
       "      <th>2021-07-06</th>\n",
       "      <td>11.78</td>\n",
       "      <td>12.63</td>\n",
       "      <td>11.58</td>\n",
       "      <td>12.49</td>\n",
       "      <td>12.49</td>\n",
       "      <td>225560300</td>\n",
       "    </tr>\n",
       "    <tr>\n",
       "      <th>2021-07-07</th>\n",
       "      <td>11.99</td>\n",
       "      <td>12.18</td>\n",
       "      <td>11.50</td>\n",
       "      <td>11.91</td>\n",
       "      <td>11.91</td>\n",
       "      <td>135249400</td>\n",
       "    </tr>\n",
       "    <tr>\n",
       "      <th>2021-07-08</th>\n",
       "      <td>11.18</td>\n",
       "      <td>11.48</td>\n",
       "      <td>11.00</td>\n",
       "      <td>11.21</td>\n",
       "      <td>11.21</td>\n",
       "      <td>77653400</td>\n",
       "    </tr>\n",
       "    <tr>\n",
       "      <th>2021-07-09</th>\n",
       "      <td>11.79</td>\n",
       "      <td>12.25</td>\n",
       "      <td>11.06</td>\n",
       "      <td>12.03</td>\n",
       "      <td>12.03</td>\n",
       "      <td>108777700</td>\n",
       "    </tr>\n",
       "  </tbody>\n",
       "</table>\n",
       "</div>"
      ],
      "text/plain": [
       "             Open   High    Low  Close  Adj Close     Volume\n",
       "Date                                                        \n",
       "2021-06-30  16.65  18.01  14.10  14.14      14.14  288155500\n",
       "2021-07-01  15.60  16.90  15.00  16.40      16.40  150901900\n",
       "2021-07-02  14.96  15.83  14.60  15.53      15.53  101071800\n",
       "2021-07-06  11.78  12.63  11.58  12.49      12.49  225560300\n",
       "2021-07-07  11.99  12.18  11.50  11.91      11.91  135249400\n",
       "2021-07-08  11.18  11.48  11.00  11.21      11.21   77653400\n",
       "2021-07-09  11.79  12.25  11.06  12.03      12.03  108777700"
      ]
     },
     "execution_count": 3,
     "metadata": {},
     "output_type": "execute_result"
    }
   ],
   "source": [
    "DIDI = pd.read_csv('DIDI.csv')\n",
    "DIDI.set_index(\"Date\", inplace=True)\n",
    "DIDI"
   ]
  },
  {
   "cell_type": "markdown",
   "id": "7758cfee",
   "metadata": {},
   "source": [
    "## Time Series Plot of Stock Price:"
   ]
  },
  {
   "cell_type": "code",
   "execution_count": 4,
   "id": "e2f11b59",
   "metadata": {},
   "outputs": [
    {
     "data": {
      "image/png": "[encoded data removed]",
      "text/plain": [
       "<Figure size 432x288 with 1 Axes>"
      ]
     },
     "metadata": {
      "needs_background": "light"
     },
     "output_type": "display_data"
    }
   ],
   "source": [
    "DIDI[['Adj Close','High','Low']].plot( )\n",
    "plt.gcf().autofmt_xdate()\n",
    "ticker = 'DIDI'\n",
    "plt.title(\"Adjusted Close Price of %s\" % ticker, fontsize=15)\n",
    "plt.ylabel('Price', fontsize=14)\n",
    "plt.xlabel('Date', fontsize=14)\n",
    "plt.grid(which=\"major\", color='k', linestyle='-.', linewidth=0.5)"
   ]
  },
  {
   "cell_type": "markdown",
   "id": "aa5f4ada",
   "metadata": {},
   "source": [
    "As can be seen from the time series plot of DIDI's adjusted close price data, on the first day of its trading, it closed up a modest 1\\% Wednesday afternoon after spiking as much as 28.6\\% in the Chinese ride-hailing giant’s market debut. The orange line and the green line represent the highest and the lowest price of the trading day.  \n",
    "\n",
    "Yet Didi's stock barely closed above its IPO price on the first day, then plummeted over the following week following several stunning developments. "
   ]
  },
  {
   "cell_type": "markdown",
   "id": "84140d7b",
   "metadata": {},
   "source": [
    "## Return rate of DIDI:"
   ]
  },
  {
   "cell_type": "code",
   "execution_count": 110,
   "id": "60f0b04d",
   "metadata": {},
   "outputs": [
    {
     "data": {
      "text/plain": [
       "<matplotlib.lines.Line2D at 0x7fcc691d4220>"
      ]
     },
     "execution_count": 110,
     "metadata": {},
     "output_type": "execute_result"
    },
    {
     "data": {
      "image/png": "[encoded data removed]",
      "text/plain": [
       "<Figure size 432x288 with 1 Axes>"
      ]
     },
     "metadata": {
      "needs_background": "light"
     },
     "output_type": "display_data"
    }
   ],
   "source": [
    "close_px_didi = DIDI['Adj Close']\n",
    "rets_didi = close_px_didi / close_px_didi.shift(1) -1\n",
    "plt.plot(x,rets_didi)\n",
    "plt.gcf().autofmt_xdate()\n",
    "plt.title (\"Return rate for DIDI\")\n",
    "plt.ylabel('Return Rate', fontsize=14)\n",
    "plt.xlabel('Date', fontsize=14)\n",
    "plt.axhline(y=rets_didi.mean(), color='r', linestyle='--')"
   ]
  },
  {
   "cell_type": "markdown",
   "id": "17f7f98e",
   "metadata": {},
   "source": [
    "From the return rate plot, we can know that the return of the stock is pretty unstable since its IPO. It had a 20\\% drop on July 6 2021 and climbed a little bit after that. For the time being, we're unable to predict its future trend due to the limited data."
   ]
  },
  {
   "cell_type": "markdown",
   "id": "330c028e",
   "metadata": {},
   "source": [
    "## Indexes:"
   ]
  },
  {
   "cell_type": "markdown",
   "id": "ab400e3f",
   "metadata": {},
   "source": [
    "### FTSE (July 8, 2021): "
   ]
  },
  {
   "cell_type": "markdown",
   "id": "2ccc5adc",
   "metadata": {},
   "source": [
    "FTSE stands for The Financial Times Stock Exchange, also known as FTSE Russell Group. It is a British financial organization that specializes in providing index offerings for the global financial markets.\n",
    "\n",
    "On July 8, 2021, DIDI Global Inc was added to the FTSE All-World Index, the FTSE Global Large Cap Index, and the FTSE Emerging Index in an expedited entry following the Chinese company's $\\$4.4$ billion listing on the New York Stock Exchange last week."
   ]
  },
  {
   "cell_type": "markdown",
   "id": "8bf2b28d",
   "metadata": {},
   "source": [
    "### S&P (July 12, 2021):"
   ]
  },
  {
   "cell_type": "markdown",
   "id": "f70ab173",
   "metadata": {},
   "source": [
    "According to S&P Dow Jones Indices said in an emailed statement, Didi Global Inc will be added to S&P Dow Jones' global equity indexes on July 12 2021."
   ]
  },
  {
   "cell_type": "markdown",
   "id": "74ddf146",
   "metadata": {},
   "source": [
    "# Major risks:"
   ]
  },
  {
   "cell_type": "markdown",
   "id": "1730c84b",
   "metadata": {},
   "source": [
    "## Financial crisis due to COVID-19:"
   ]
  },
  {
   "cell_type": "markdown",
   "id": "5396a3c7",
   "metadata": {},
   "source": [
    "|Revenue in 2020 | Decreased percent from previous year |   Annual Loss in 2020 |\n",
    "|:-------------:|:------------:|:----------------:|\n",
    "|$\\$21.6$ Billion | 8.4\\% | $\\$1.6$ Billion|"
   ]
  },
  {
   "cell_type": "markdown",
   "id": "147fa9c2",
   "metadata": {},
   "source": [
    "The Situation is getting better b/c China has almost recovered from the COVID-19:"
   ]
  },
  {
   "cell_type": "markdown",
   "id": "f2a8648d",
   "metadata": {},
   "source": [
    "|Revenue in 2021 Q1| Net Income |  \n",
    "|:-------------:|:------------:|\n",
    "|$\\$6.4$ Billion | $\\$837$ Million|"
   ]
  },
  {
   "cell_type": "markdown",
   "id": "ecdd5693",
   "metadata": {},
   "source": [
    "## Cyberspace Security Investigation"
   ]
  },
  {
   "cell_type": "markdown",
   "id": "3a220684",
   "metadata": {},
   "source": [
    "### Description of this incident: "
   ]
  },
  {
   "cell_type": "markdown",
   "id": "94b06e8f",
   "metadata": {},
   "source": [
    "The cyberspace security review office, an obscure unit of the powerful Chinese Administration of Cyberspace (CAC), on Friday announced a probe into Didi Chuxing on national security grounds, two days after the ride-hailing giant made its initial public offering in New York.\n",
    " \n",
    "This was followed by another statement on Sunday in which CAC said it had ordered app stores to remove Didi from their platforms. On Monday morning, the cyberspace security review office said it was launching a similar investigation on “national security” grounds into truck-hailing apps Yunmanman and Huochebang, as well as a recruiting app operated by Boss Zhipin.\n",
    " \n",
    "It is the first time in China that the cyberspace security review office publicly launched a probe. In addition, it is different from previous antitrust or pricing investigations into Big Tech in China. The probe into Didi is about national security concerns, a more serious issue than monopolistic behaviour and pricing irregularities.\n"
   ]
  },
  {
   "cell_type": "markdown",
   "id": "c77bdfd2",
   "metadata": {},
   "source": [
    "### Possible outcomes: "
   ]
  },
  {
   "cell_type": "markdown",
   "id": "920c9429",
   "metadata": {},
   "source": [
    "According to China’s cybersecurity review regulation issued in 2020, a review generally takes up to 45 working days to complete, but that period can be extended and not include the time that a target company spends preparing documents for the investigation. It means, in implementation, the probe can take months to complete.\n",
    " \n",
    "The best scenario for Didi is that the review finds no national security risks and that Didi’s app, which was kicked off local app stores on Sunday, can be made available for download again. In the worst scenario Didi could be ordered to suspend its operations for a rectification, and then as a result, loses its market dominance.\n",
    " \n",
    "As things stand, Didi has been accused by the cyberspace administration of violating Chinese laws and regulations in its collection and use of personal data. Meanwhile, according to China’s cybersecurity review law, if Didi is found to have sold problematic products and services with national security implications, it could be fined up to 10 times the purchase value and ordered to replace these products and services.\n",
    "\n",
    "Didi’s stock investors are likely to bear the brunt of any financial losses caused by the probe. Didi’s big corporate backers, including SoftBank Corp and Uber are also expected to take losses.\n",
    "\n"
   ]
  },
  {
   "cell_type": "markdown",
   "id": "061d59f8",
   "metadata": {},
   "source": [
    "# Didi's competitors:"
   ]
  },
  {
   "cell_type": "markdown",
   "id": "e883e25c",
   "metadata": {},
   "source": [
    "After elbowing Uber out of China in 2016, Didi Chuxing quickly dominated the country’s massive ride-sharing market, but its position is by no means unassailable, as more powerful rivals emerge to threaten its supremacy.\n",
    "\n",
    "In 2018, several Chinese companies, including the Alibaba-owned mapping firm AutoNavi and the deep-pocketed local services provider Meituan have launched their own ride-hailing platforms. They're providing discounted rides to passengers and luring drivers with more favorable terms, eager to capture a slice of this rapidly growing market.  \n",
    "\n",
    "Analysts say these new entrants have a real chance of chipping away at Didi’s dominance, as they each have deep local market knowledge and competitive advantages Uber never possessed in China.\n",
    "\n",
    "Below are some comparative statistics for Didi's top competitors:"
   ]
  },
  {
   "cell_type": "markdown",
   "id": "f401f4f1",
   "metadata": {},
   "source": [
    "|    Metrics\\Company   |                                   Didi                                    |                                           Uber                                          |                                                   Meituan                                                  |                                                     Lyft                                                    |\n",
    "|:--------------------:|:-------------------------------------------------------------------------:|:---------------------------------------------------------------------------------------:|:----------------------------------------------------------------------------------------------------------:|:-----------------------------------------------------------------------------------------------------------:|\n",
    "|   Company services   |  DIDI is a company that develops a mobile transportation service platform | Uber is a provider of a mobile application connecting passengers with drivers for hire. | Meituan is a platform for services aiming to leverage technology to connect consumers and local merchants. | Lyft is a ride-share company that operates a transportation platform that connects passengers with drivers. |\n",
    "|     Founding Date    |                                    2012                                   |                                           2009                                          |                                                    2003                                                    |                                                     2012                                                    |\n",
    "|         Tags         | Technology artificial intelligence mobile app ride sharing transportation |      Automotive & Transportation Technology mobile app ride-sharing transportation      |                         Marketing Technology advertising ecommerce sales automation                        |                Automotive & Transportation Technology mobile app ride-sharing transportation                |\n",
    "| Market Cap(USD) - 2021 |                              \\$58.024 Billion                              |                                     \\$92.152 Billion                                     |                                              \\$220.145 Billion                                              |                                                \\$19.78 Billion                                               |\n",
    "|   Revenue(USD) - 2020  |                               \\$21.7 Billion                               |                                     \\$11.139 Billion                                     |                                               \\$17.44 Billion                                               |                                                \\$2.36 Billion                                                |\n",
    "| Net income(USD) - 2020 |                               \\$-1.62 Billion                              |                                      \\$-6.78 Billion                                     |                                                \\$0.73 Billion                                               |                                                \\$-1.75 Billion                                               | "
   ]
  },
  {
   "cell_type": "markdown",
   "id": "1b2d8a87",
   "metadata": {},
   "source": [
    "# Didi's Prospect:"
   ]
  },
  {
   "attachments": {},
   "cell_type": "markdown",
   "id": "39a50532",
   "metadata": {},
   "source": [
    "In its filing, DiDi states that it will invest 30% of the IPO proceeds into tech capabilities, including shared mobility, electric vehicles and autonomous driving technologies.\n",
    "\n",
    "DiDi has also signaled major moves to expand into global markets by dedicating another 30% of the funds raised in its IPO to grow market share in countries outside of China. DiDi began its global expansion in 2018.\n"
   ]
  },
  {
   "attachments": {},
   "cell_type": "markdown",
   "id": "56365179",
   "metadata": {},
   "source": [
    "# Advice for investors:"
   ]
  },
  {
   "cell_type": "markdown",
   "id": "28308ea4",
   "metadata": {},
   "source": [
    "Although Didi is the leader in the world’s largest ride-sharing market, and it's well-positioned to grow and capitalize in the mobility industry. Still, I think investors shouldn't be rushing to buy this stock.\n",
    "\n",
    "The regulator’s investigation into Didi has just begun. It’ll be wiser to wait until the outcomes of this investigation before deciding what to do.\n",
    "\n",
    "Besides, It’s a newly listed stock. We should track its performance over at least a few quarters to see whether it’s worth it.\n"
   ]
  }
 ],
 "metadata": {
  "kernelspec": {
   "display_name": "Python 3",
   "language": "python",
   "name": "python3"
  },
  "language_info": {
   "codemirror_mode": {
    "name": "ipython",
    "version": 3
   },
   "file_extension": ".py",
   "mimetype": "text/x-python",
   "name": "python",
   "nbconvert_exporter": "python",
   "pygments_lexer": "ipython3",
   "version": "3.8.8"
  }
 },
 "nbformat": 4,
 "nbformat_minor": 5
}
